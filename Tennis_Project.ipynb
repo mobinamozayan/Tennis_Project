{
 "cells": [
  {
   "cell_type": "code",
   "metadata": {
    "ExecuteTime": {
     "end_time": "2024-07-02T14:08:36.344744Z",
     "start_time": "2024-07-02T14:08:36.341166Z"
    }
   },
   "source": [
    "import os\n",
    "\n",
    "import pandas as pd\n",
    "import seaborn as sns\n",
    "import matplotlib as plt\n",
    "import numpy as np\n",
    "import matplotlib.pyplot as plt"
   ],
   "outputs": [],
   "execution_count": 19
  },
  {
   "cell_type": "code",
   "metadata": {
    "ExecuteTime": {
     "end_time": "2024-07-02T14:08:37.351635Z",
     "start_time": "2024-07-02T14:08:36.456017Z"
    }
   },
   "source": [
    "away_team = pd.read_csv(os.path.join(os.getcwd(),'data','output_directory', 'away_team.csv'))\n",
    "away_team_score = pd.read_csv( os.path.join(os.getcwd(),'data', 'output_directory','away_team_score.csv'))\n",
    "event = pd.read_csv( os.path.join(os.getcwd(),'data', 'output_directory','event.csv'))\n",
    "home_team = pd.read_csv( os.path.join(os.getcwd(),'data', 'output_directory','home_team.csv'))\n",
    "home_team_score = pd.read_csv( os.path.join(os.getcwd(),'data', 'output_directory','home_team_score.csv'))\n",
    "odds =  pd.read_csv( os.path.join(os.getcwd(),'data', 'output_directory','odds.csv'))\n",
    "power = pd.read_csv( os.path.join(os.getcwd(),'data', 'output_directory','power.csv'))\n",
    "round = pd.read_csv( os.path.join(os.getcwd(),'data', 'output_directory','round.csv'))\n",
    "season = pd.read_csv( os.path.join(os.getcwd(),'data', 'output_directory','season.csv'))\n",
    "statistics = pd.read_csv( os.path.join(os.getcwd(),'data', 'output_directory','statistics.csv'))\n",
    "time = pd.read_csv( os.path.join(os.getcwd(),'data', 'output_directory','time.csv'))\n",
    "tournament = pd.read_csv( os.path.join(os.getcwd(),'data', 'output_directory','tournament.csv'))\n",
    "venue = pd.read_csv( os.path.join(os.getcwd(),'data', 'output_directory','venue.csv'))\n",
    "votes = pd.read_csv( os.path.join(os.getcwd(),'data', 'output_directory','votes.csv'))\n",
    "pbp =  pd.read_csv( os.path.join(os.getcwd(),'data', 'output_directory','pbp.csv')) "
   ],
   "outputs": [],
   "execution_count": 20
  },
  {
   "cell_type": "markdown",
   "metadata": {},
   "source": [
    "1. How many tennis players are included in the dataset?\n"
   ]
  },
  {
   "cell_type": "code",
   "metadata": {
    "ExecuteTime": {
     "end_time": "2024-07-02T14:08:38.708613Z",
     "start_time": "2024-07-02T14:08:37.352687Z"
    }
   },
   "source": [
    "\n",
    "folder_path = os.path.join(os.getcwd(),'data', 'output_directory')\n",
    "\n",
    "table_names = [\n",
    "    \"away_team\", \"event\", \"home_team\", \"odds\", \"power\",\n",
    "    \"round\", \"season\", \"statistics\", \"time\", \"tournament\",\n",
    "    \"venue\", \"votes\", \"pbp\", \"home_team_score\", \"away_team_score\"\n",
    "]\n",
    "\n",
    "player_id = []\n",
    "\n",
    "# Read any CSV file, remove duplicate rows, and add the 'player_id' column to the list\n",
    "for table_name in table_names:\n",
    "    file_path = f\"{folder_path}/{table_name}.csv\"\n",
    "    df = pd.read_csv(file_path)\n",
    "    df = df.drop_duplicates()  # Remove duplicate rows\n",
    "    if 'player_id' in df.columns:\n",
    "        player_id.extend(df['player_id'].dropna().unique())\n",
    "\n",
    "# Convert the list to a set to remove duplicates\n",
    "unique_players = set(player_id)\n",
    "\n",
    "print(f\"Number of unique tennis players: {len(unique_players)}\")\n"
   ],
   "outputs": [
    {
     "name": "stdout",
     "output_type": "stream",
     "text": [
      "Number of unique tennis players: 2352\n"
     ]
    }
   ],
   "execution_count": 21
  },
  {
   "cell_type": "markdown",
   "metadata": {},
   "source": [
    "2. What is the average age of the players?\n"
   ]
  },
  {
   "cell_type": "code",
   "metadata": {
    "ExecuteTime": {
     "end_time": "2024-07-02T14:08:38.726754Z",
     "start_time": "2024-07-02T14:08:38.709608Z"
    }
   },
   "source": [
    "combined_df = pd.concat([home_team, away_team], ignore_index=True).drop_duplicates()\n",
    "\n",
    "# Calculate the average height of the players\n",
    "average_height = combined_df['height'].mean()\n",
    "print(f\"Team height of players (cm): {average_height}\")\n"
   ],
   "outputs": [
    {
     "name": "stdout",
     "output_type": "stream",
     "text": [
      "Team height of players (cm): 1.819405199001322\n"
     ]
    }
   ],
   "execution_count": 22
  },
  {
   "cell_type": "markdown",
   "metadata": {},
   "source": [
    "3. Which player has the highest number of wins?\n"
   ]
  },
  {
   "cell_type": "code",
   "metadata": {
    "ExecuteTime": {
     "end_time": "2024-07-02T14:08:38.778454Z",
     "start_time": "2024-07-02T14:08:38.727758Z"
    }
   },
   "source": [
    "\n",
    "df_away_team = away_team.drop_duplicates(subset='match_id')\n",
    "df_pbp = pbp.drop_duplicates(subset='match_id')\n",
    "df_home_team = home_team.drop_duplicates(subset='match_id')\n",
    "\n",
    "merged_data = pd.merge(df_away_team, df_pbp, on='match_id')\n",
    "\n",
    "#Calculate the number of wins for each player\n",
    "def calculate_wins(row):\n",
    "    if row['home_score'] > row['away_score']:\n",
    "        return row['home_point']\n",
    "    else:\n",
    "        return row['away_point']\n",
    "\n",
    "merged_data['wins'] = merged_data.apply(calculate_wins, axis=1)\n",
    "\n",
    "player_with_most_wins_id = merged_data.groupby('player_id')['wins'].sum().idxmax()\n",
    "\n",
    "wins_unique = merged_data[merged_data['player_id'] == player_with_most_wins_id]['wins'].unique()\n",
    "\n",
    "print(\"number of player wins with ID\", player_with_most_wins_id, \"Without repeating:\", wins_unique)"
   ],
   "outputs": [
    {
     "name": "stdout",
     "output_type": "stream",
     "text": [
      "number of player wins with ID 88310 Without repeating: ['15' '0' '1']\n"
     ]
    }
   ],
   "execution_count": 23
  },
  {
   "cell_type": "markdown",
   "metadata": {},
   "source": [
    "4. What is the longest match recorded in terms of duration?\n"
   ]
  },
  {
   "cell_type": "code",
   "metadata": {
    "ExecuteTime": {
     "end_time": "2024-07-02T14:08:38.789204Z",
     "start_time": "2024-07-02T14:08:38.779454Z"
    }
   },
   "source": [
    "from datetime import datetime, timedelta \n",
    "\n",
    "tournament = tournament.drop_duplicates(subset= 'match_id')\n",
    "time = time.drop_duplicates(subset= 'match_id')\n",
    "\n",
    "df_tournament = tournament[['tournament_id', 'tournament_name', 'match_id']]\n",
    "\n",
    "# Calculation of the total duration of each match\n",
    "time['total_duration'] = time[['period_1', 'period_2', 'period_3', 'period_4', 'period_5']].sum(axis=1)\n",
    "\n",
    "# Find the match with the longest time\n",
    "longest_match = time.loc[time['total_duration'].idxmax()]\n",
    "\n",
    "# Merging the information of the longest match with the information of the matches\n",
    "longest_match_info = pd.merge(df_tournament, time, on='match_id')\n",
    "\n",
    "# Filter the longest match\n",
    "longest_match_info = longest_match_info[longest_match_info['match_id'] == longest_match['match_id']]\n",
    "\n",
    "# Calculate the total duration as timedelta\n",
    "longest_duration = timedelta(seconds=longest_match['total_duration'])\n",
    "\n",
    "# Display the name of the competition and its duration\n",
    "tournament_name = longest_match_info['tournament_name'].values[0]\n",
    "\n",
    "print(f\"Longest match: {tournament_name}, Duration: {longest_duration}\")"
   ],
   "outputs": [
    {
     "name": "stdout",
     "output_type": "stream",
     "text": [
      "Longest match: Cervia, Singles Main, M-ITF-ITA-14A, Duration: 1 day, 23:32:33\n"
     ]
    }
   ],
   "execution_count": 24
  },
  {
   "cell_type": "markdown",
   "metadata": {},
   "source": [
    "5. How many sets are typically played in a tennis match?\n"
   ]
  },
  {
   "cell_type": "code",
   "metadata": {
    "ExecuteTime": {
     "end_time": "2024-07-02T14:08:39.007401Z",
     "start_time": "2024-07-02T14:08:38.789204Z"
    }
   },
   "source": [
    "# Group by match_id and count the number of sets for each match_id\n",
    "df = pbp.drop_duplicates()\n",
    "\n",
    "sets_count = df.groupby('match_id')['set_id'].nunique()\n",
    "\n",
    "print(\"Number of sets for each match:\")\n",
    "print(sets_count)"
   ],
   "outputs": [
    {
     "name": "stdout",
     "output_type": "stream",
     "text": [
      "Number of sets for each match:\n",
      "match_id\n",
      "12260075    2\n",
      "12260076    3\n",
      "12260077    3\n",
      "12260078    3\n",
      "12260080    2\n",
      "           ..\n",
      "12384789    2\n",
      "12384806    3\n",
      "12384892    2\n",
      "12384975    3\n",
      "12385017    3\n",
      "Name: set_id, Length: 6555, dtype: int64\n"
     ]
    }
   ],
   "execution_count": 25
  },
  {
   "cell_type": "markdown",
   "metadata": {},
   "source": [
    "6. Which country has produced the most successful tennis players?"
   ]
  },
  {
   "cell_type": "code",
   "metadata": {
    "ExecuteTime": {
     "end_time": "2024-07-02T14:08:39.018565Z",
     "start_time": "2024-07-02T14:08:39.008392Z"
    }
   },
   "source": [
    "#The best tennis player by rank\n",
    "home_team = home_team.drop_duplicates()\n",
    "\n",
    "best_player_row = home_team.loc[home_team['current_rank'] == 1]\n",
    "\n",
    "best_player_country = best_player_row['country'].iloc[0]\n",
    "\n",
    "print(f\"The country that produced the best tennis player: {best_player_country}\")"
   ],
   "outputs": [
    {
     "name": "stdout",
     "output_type": "stream",
     "text": [
      "The country that produced the best tennis player: Poland\n"
     ]
    }
   ],
   "execution_count": 26
  },
  {
   "cell_type": "markdown",
   "metadata": {},
   "source": [
    "7. What is the average number of aces per match?\n"
   ]
  },
  {
   "cell_type": "code",
   "metadata": {
    "ExecuteTime": {
     "end_time": "2024-07-02T14:08:39.258748Z",
     "start_time": "2024-07-02T14:08:39.019165Z"
    }
   },
   "source": [
    "\n",
    "statistics = statistics.drop_duplicates()\n",
    "\n",
    "aces_df = statistics[statistics['statistic_name'] == 'aces'].copy()\n",
    "\n",
    "# Calculation of home and away ace hits for each match\n",
    "aces_df.loc[:, 'total_aces'] = aces_df['home_value'] + aces_df['away_value']\n",
    "\n",
    "average_aces = aces_df['total_aces'].mean()\n",
    "\n",
    "print(\"Average number of aces per match:\", average_aces)"
   ],
   "outputs": [
    {
     "name": "stdout",
     "output_type": "stream",
     "text": [
      "Average number of aces per match: 1.422117269648904\n"
     ]
    }
   ],
   "execution_count": 27
  },
  {
   "cell_type": "markdown",
   "metadata": {},
   "source": [
    "8. Is there a difference in the number of double faults based on gender?\n"
   ]
  },
  {
   "cell_type": "code",
   "metadata": {
    "ExecuteTime": {
     "end_time": "2024-07-02T14:08:39.274183Z",
     "start_time": "2024-07-02T14:08:39.259748Z"
    }
   },
   "source": [
    "from scipy.stats import ttest_ind \n",
    "\n",
    "home_statistics = statistics.merge(home_team, on='match_id', suffixes=('_stat', '_home'))\n",
    "away_statistics = statistics.merge(away_team, on='match_id', suffixes=('_stat', '_away'))\n",
    "double_faults_home = home_statistics[home_statistics['statistic_name'] == 'double_faults']\n",
    "double_faults_away = away_statistics[away_statistics['statistic_name'] == 'double_faults']\n",
    "\n",
    "male_double_faults = pd.concat([\n",
    "    double_faults_home[double_faults_home['gender'] == 'M']['home_value'],\n",
    "    double_faults_away[double_faults_away['gender'] == 'M']['away_value']\n",
    "])\n",
    "\n",
    "female_double_faults = pd.concat([\n",
    "    double_faults_home[double_faults_home['gender'] == 'F']['home_value'],\n",
    "    double_faults_away[double_faults_away['gender'] == 'F']['away_value']\n",
    "])\n",
    "\n",
    "t_stat, p_value = ttest_ind(male_double_faults, female_double_faults, nan_policy='omit')\n",
    "\n",
    "print(f\"T-statistic: {t_stat}, P-value: {p_value}\")\n",
    "if p_value < 0.05:\n",
    "    print(\"There is a significant difference in the number of double faults based on gender.\")\n",
    "else:\n",
    "    print(\"There is no significant difference in the number of double faults based on gender.\")"
   ],
   "outputs": [
    {
     "ename": "ModuleNotFoundError",
     "evalue": "No module named 'scipy'",
     "output_type": "error",
     "traceback": [
      "\u001B[1;31m---------------------------------------------------------------------------\u001B[0m",
      "\u001B[1;31mModuleNotFoundError\u001B[0m                       Traceback (most recent call last)",
      "Cell \u001B[1;32mIn[28], line 1\u001B[0m\n\u001B[1;32m----> 1\u001B[0m \u001B[38;5;28;01mfrom\u001B[39;00m \u001B[38;5;21;01mscipy\u001B[39;00m\u001B[38;5;21;01m.\u001B[39;00m\u001B[38;5;21;01mstats\u001B[39;00m \u001B[38;5;28;01mimport\u001B[39;00m ttest_ind \n\u001B[0;32m      3\u001B[0m home_statistics \u001B[38;5;241m=\u001B[39m statistics\u001B[38;5;241m.\u001B[39mmerge(home_team, on\u001B[38;5;241m=\u001B[39m\u001B[38;5;124m'\u001B[39m\u001B[38;5;124mmatch_id\u001B[39m\u001B[38;5;124m'\u001B[39m, suffixes\u001B[38;5;241m=\u001B[39m(\u001B[38;5;124m'\u001B[39m\u001B[38;5;124m_stat\u001B[39m\u001B[38;5;124m'\u001B[39m, \u001B[38;5;124m'\u001B[39m\u001B[38;5;124m_home\u001B[39m\u001B[38;5;124m'\u001B[39m))\n\u001B[0;32m      4\u001B[0m away_statistics \u001B[38;5;241m=\u001B[39m statistics\u001B[38;5;241m.\u001B[39mmerge(away_team, on\u001B[38;5;241m=\u001B[39m\u001B[38;5;124m'\u001B[39m\u001B[38;5;124mmatch_id\u001B[39m\u001B[38;5;124m'\u001B[39m, suffixes\u001B[38;5;241m=\u001B[39m(\u001B[38;5;124m'\u001B[39m\u001B[38;5;124m_stat\u001B[39m\u001B[38;5;124m'\u001B[39m, \u001B[38;5;124m'\u001B[39m\u001B[38;5;124m_away\u001B[39m\u001B[38;5;124m'\u001B[39m))\n",
      "\u001B[1;31mModuleNotFoundError\u001B[0m: No module named 'scipy'"
     ]
    }
   ],
   "execution_count": 28
  },
  {
   "cell_type": "markdown",
   "metadata": {},
   "source": [
    "9. Which player has won the most tournaments in a single month?\n"
   ]
  },
  {
   "cell_type": "code",
   "metadata": {
    "ExecuteTime": {
     "end_time": "2024-07-02T14:08:39.275185Z",
     "start_time": "2024-07-02T14:08:39.275185Z"
    }
   },
   "source": [
    "event['start_month'] = pd.to_datetime(event['start_datetime']).dt.to_period('M')\n",
    "\n",
    "event_winner_details = pd.merge(event, home_team[['match_id', 'player_id']], on='match_id', how='left')\n",
    "\n",
    "event_winner_details = event_winner_details.drop_duplicates(subset=['player_id', 'match_id', 'start_month'])\n",
    "\n",
    "tournament_wins = event_winner_details.groupby(['player_id', 'start_month']).size().reset_index(name='wins')\n",
    "\n",
    "max_wins_in_month = tournament_wins.loc[tournament_wins['wins'].idxmax()]\n",
    "\n",
    "print(f\"The player with the most tournament wins in a single month is: {max_wins_in_month['player_id']} with {max_wins_in_month['wins']} wins in {max_wins_in_month['start_month']}.\")"
   ],
   "outputs": [],
   "execution_count": null
  },
  {
   "cell_type": "markdown",
   "metadata": {},
   "source": [
    "10. Is there a correlation between a player's height and their ranking?"
   ]
  },
  {
   "cell_type": "code",
   "metadata": {},
   "source": [
    "from scipy.stats import pearsonr\n",
    "home_team = home_team.drop_duplicates()\n",
    "\n",
    "height_and_rank = home_team[['current_rank', 'height']]\n",
    "height_and_rank = height_and_rank.dropna()\n",
    "\n",
    "correlation_coefficient, p_value = pearsonr(height_and_rank['height'], height_and_rank['current_rank'])\n",
    "print(f\"Correlation coefficient between height and ranking: {correlation_coefficient}\")\n",
    "print(f\"P-value: {p_value}\")\n",
    "\n",
    "alpha = 0.05\n",
    "if p_value < alpha:\n",
    "    print(\"The correlation is statistically significant.\")\n",
    "else:\n",
    "    print(\"The correlation is not statistically significant.\")\n",
    "\n",
    "plt.figure(figsize=(10, 6))\n",
    "sns.regplot(data=height_and_rank, x='height', y='current_rank', scatter_kws={'s': 10, 'alpha': 0.5}, line_kws={'color': 'red'})\n",
    "plt.title('Height vs Ranking')\n",
    "plt.xlabel('Height')\n",
    "plt.ylabel('Ranking')\n",
    "plt.grid(True)\n",
    "plt.show()"
   ],
   "outputs": [],
   "execution_count": null
  },
  {
   "cell_type": "markdown",
   "metadata": {},
   "source": [
    "11. What is the average duration of matches?\n"
   ]
  },
  {
   "cell_type": "code",
   "metadata": {},
   "source": [
    "match_time_info = time.drop_duplicates(subset=['match_id'])\n",
    "\n",
    "average_duration = match_time_info[['period_1', 'period_2', 'period_3', 'period_4', 'period_5']].sum(axis=1).mean()/60\n",
    "\n",
    "print(f\"Average duration of matches: {average_duration} minutes\")"
   ],
   "outputs": [],
   "execution_count": null
  },
  {
   "cell_type": "markdown",
   "metadata": {},
   "source": [
    "12. What is the average number of games per set in men's matches compared to women's matches?\n"
   ]
  },
  {
   "cell_type": "code",
   "metadata": {},
   "source": [
    "game_info = pd.merge(pbp, home_team[['match_id', 'gender']], on='match_id')\n",
    "\n",
    "game_info = game_info.drop_duplicates(subset=['match_id'])\n",
    "\n",
    "avg_games_per_set = game_info.groupby('gender')['game_id'].mean()\n",
    "\n",
    "print(f\"Average number of games per set:\")\n",
    "print(avg_games_per_set)"
   ],
   "outputs": [],
   "execution_count": null
  },
  {
   "cell_type": "markdown",
   "metadata": {},
   "source": [
    "13. What is the distribution of left-handed versus right-handed players?\n"
   ]
  },
  {
   "cell_type": "code",
   "metadata": {},
   "source": [
    "from scipy.stats import chi2_contingency\n",
    "\n",
    "combined_data = pd.concat([home_team, away_team])\n",
    "\n",
    "unique_players = combined_data.drop_duplicates(subset=['match_id', 'player_id'])\n",
    "\n",
    "handedness_distribution = unique_players['plays'].value_counts()\n",
    "\n",
    "print(handedness_distribution.to_string())\n",
    "\n",
    "# Chi-square test\n",
    "observed = handedness_distribution.values\n",
    "chi2, p, dof, expected = chi2_contingency([observed])\n",
    "\n",
    "print(f\"Chi-Square Test: chi2 = {chi2}, p-value = {p}\")\n",
    "if p < 0.05:\n",
    "    print(\"There is a significant difference between left-handed and right-handed players.\")\n",
    "else:\n",
    "    print(\"There is no significant difference between the number of left-handed and right-handed players.\")\n",
    "\n",
    "plt.figure(figsize=(8, 6))\n",
    "handedness_distribution.plot(kind='bar', color=['skyblue', 'lightgreen'])\n",
    "plt.title('Distribution of left-handed versus right-handed players')\n",
    "plt.xlabel('Handedness')\n",
    "plt.ylabel('number of players')\n",
    "plt.xticks(rotation=0)\n",
    "plt.show()"
   ],
   "outputs": [],
   "execution_count": null
  },
  {
   "cell_type": "markdown",
   "metadata": {},
   "source": [
    "14. What is the most common type of surface used in tournaments?\n"
   ]
  },
  {
   "cell_type": "code",
   "metadata": {},
   "source": [
    "tournament = tournament.drop_duplicates()\n",
    "\n",
    "surface_distribution = tournament['ground_type'].value_counts()\n",
    "\n",
    "print(\"Most common type of surface used in tournaments:\\n\", surface_distribution)\n",
    "\n",
    "most_common = surface_distribution.idxmax()\n",
    "print(\"Most common type of surface used in tournaments:\\n\", most_common)\n"
   ],
   "outputs": [],
   "execution_count": null
  },
  {
   "cell_type": "markdown",
   "metadata": {},
   "source": [
    "15. How many distinct countries are represented in the dataset?\n"
   ]
  },
  {
   "cell_type": "code",
   "metadata": {},
   "source": [
    "home_team = home_team.drop_duplicates()\n",
    "away_team = away_team.drop_duplicates()\n",
    "\n",
    "h_co = set(home_team['country'].unique())\n",
    "a_co = set(away_team['country'].unique())\n",
    "\n",
    "distinct_co = set(h_co.union(a_co))\n",
    "num_distinct_co = len(distinct_co)\n",
    "\n",
    "print(\"Number of distinct countries represented in the dataset:\\n\", num_distinct_co)\n"
   ],
   "outputs": [],
   "execution_count": null
  },
  {
   "cell_type": "markdown",
   "metadata": {},
   "source": [
    "16. Which player has the highest winning percentage against top 10 ranked opponents?\n"
   ]
  },
  {
   "cell_type": "code",
   "metadata": {},
   "source": [
    "away_team_relevant = away_team[['match_id', 'player_id', 'current_rank', 'full_name']]\n",
    "home_team_relevant = home_team[['match_id', 'player_id', 'current_rank', 'full_name']]\n",
    "event_relevant = event[['match_id', 'winner_code']]\n",
    "\n",
    "away_team_merged = away_team_relevant.merge(event_relevant, on='match_id')\n",
    "home_team_merged = home_team_relevant.merge(event_relevant, on='match_id')\n",
    "\n",
    "away_team_merged = away_team_merged.drop_duplicates(subset=['match_id'])\n",
    "home_team_merged = home_team_merged.drop_duplicates(subset=['match_id'])\n",
    "\n",
    "home_team_merged['won'] = home_team_merged['winner_code'] == 1\n",
    "away_team_merged['won'] = away_team_merged['winner_code'] == 2\n",
    "\n",
    "combined_df = pd.concat([home_team_merged, away_team_merged])\n",
    "\n",
    "top_10_matches = combined_df[combined_df['current_rank'] <= 10]\n",
    "\n",
    "win_loss_records = top_10_matches.groupby('full_name')['won'].agg(['sum', 'count'])\n",
    "win_loss_records['winning_percentage'] = (win_loss_records['sum'] / win_loss_records['count']) * 100\n",
    "\n",
    "highest_winning_percentage_player = win_loss_records.loc[win_loss_records['winning_percentage'].idxmax()]\n",
    "\n",
    "print(highest_winning_percentage_player)\n"
   ],
   "outputs": [],
   "execution_count": null
  },
  {
   "cell_type": "markdown",
   "metadata": {},
   "source": [
    "17. What is the average number of breaks of serve per match?\n"
   ]
  },
  {
   "cell_type": "code",
   "metadata": {},
   "source": [
    "power_info = power.drop_duplicates(subset=['match_id'])\n",
    "\n",
    "breaks = power_info.groupby('match_id')['break_occurred'].sum()\n",
    "avg_breaks_per_match = breaks.mean()\n",
    "\n",
    "print(f\"The average number of breaks of serve per match is: {avg_breaks_per_match:.2f}\")"
   ],
   "outputs": [],
   "execution_count": null
  },
  {
   "cell_type": "markdown",
   "metadata": {},
   "source": [
    "8.1. How does the average current score of home teams compare to away teams?"
   ]
  },
  {
   "cell_type": "code",
   "metadata": {},
   "source": [
    "home_team_score_info = home_team_score.drop_duplicates(subset=['match_id'])\n",
    "away_team_score_info = away_team_score.drop_duplicates(subset=['match_id'])\n",
    "\n",
    "\n",
    "home_avg_score = home_team_score_info['current_score'].mean()\n",
    "away_avg_score = away_team_score_info['current_score'].mean()\n",
    "\n",
    "print(f\"Average home score: {home_avg_score}\")\n",
    "print(f\"Average away score: {away_avg_score}\")"
   ],
   "outputs": [],
   "execution_count": null
  },
  {
   "cell_type": "markdown",
   "metadata": {},
   "source": [
    "8.2. How many matches have a home team seed lower than the away team seed?"
   ]
  },
  {
   "cell_type": "code",
   "metadata": {},
   "source": [
    "event_info =  event.drop_duplicates(subset=['match_id'])\n",
    "\n",
    "count = event_info[event_info['home_team_seed'] < event_info['away_team_seed']].shape[0]\n",
    "\n",
    "print(f\"Number of matches where home team seed is lower than away team seed: {count}\")"
   ],
   "outputs": [],
   "execution_count": null
  },
  {
   "cell_type": "markdown",
   "metadata": {},
   "source": [
    "8.3. How does the number of games per set vary across different rounds?"
   ]
  },
  {
   "cell_type": "code",
   "metadata": {},
   "source": [
    "pbp_info =  pbp.drop_duplicates(subset=['match_id'])\n",
    "round_info = round.drop_duplicates(subset=['match_id'])\n",
    "\n",
    "merged_df = pd.merge(pbp_info, round_info, on='match_id')\n",
    "\n",
    "games_per_set = merged_df.groupby(['name', 'set_id']).size().reset_index(name='num_games')\n",
    "\n",
    "average_games_per_round = games_per_set.groupby('name')['num_games'].mean().reset_index()\n",
    "\n",
    "plt.figure(figsize=(12, 6))\n",
    "plt.bar(average_games_per_round['name'], average_games_per_round['num_games'], color='green')\n",
    "plt.xlabel('Round')\n",
    "plt.ylabel('Average Number of Games per Set')\n",
    "plt.title('Average Number of Games per Set Across Different Rounds')\n",
    "plt.xticks(rotation=45)\n",
    "plt.show()"
   ],
   "outputs": [],
   "execution_count": null
  },
  {
   "cell_type": "markdown",
   "metadata": {},
   "source": [
    "8.4. Identify the top 5 tournaments with the highest average match duration."
   ]
  },
  {
   "cell_type": "code",
   "metadata": {},
   "source": [
    "\n",
    "time_info['total_duration'] = time[['period_1', 'period_2', 'period_3', 'period_4', 'period_5']].sum(axis=1)\n",
    "\n",
    "merged_df = pd.merge(time_info[['match_id', 'total_duration']], tournament[['match_id', 'tournament_name']], on='match_id')\n",
    "merged_df.drop_duplicates(inplace=True)\n",
    "\n",
    "avg_duration_per_tournament = merged_df.groupby('tournament_name')['total_duration'].mean().reset_index()\n",
    "\n",
    "top_5_tournaments = avg_duration_per_tournament.nlargest(5, 'total_duration')\n",
    "\n",
    "print(top_5_tournaments)"
   ],
   "outputs": [],
   "execution_count": null
  },
  {
   "cell_type": "markdown",
   "metadata": {},
   "source": [
    "8.5. Does the type of ground (grass, clay, hard) affect the result of the match?"
   ]
  },
  {
   "cell_type": "code",
   "metadata": {},
   "source": [
    "from scipy.stats import chi2_contingency\n",
    "\n",
    "merged_data = pd.merge(event, tournament, on='match_id')\n",
    "\n",
    "merged_data = merged_data.drop_duplicates()\n",
    "\n",
    "cross_table = pd.crosstab(merged_data['ground_type'], merged_data['winner_code'])\n",
    "\n",
    "chi2, p, dof, expected = chi2_contingency(cross_table)\n",
    "\n",
    "print(f\"Chi-square statistic: {chi2}\")\n",
    "print(f\"P-value: {p}\")\n",
    "print(f\"Degrees of freedom: {dof}\")\n",
    "print(\"Expected frequencies:\")\n",
    "print(expected)\n",
    "\n",
    "alpha = 0.05 \n",
    "if p < alpha:\n",
    "    print(\"There is a significant effect for the type of land.\")\n",
    "else:\n",
    "    print(\"The type of ground does not have a significant effect on the result of the match.\")"
   ],
   "outputs": [],
   "execution_count": null
  },
  {
   "cell_type": "markdown",
   "metadata": {},
   "source": [
    "8.6. Do players' performances vary significantly across different periods of a match?"
   ]
  },
  {
   "cell_type": "code",
   "metadata": {},
   "source": [
    "from scipy.stats import f_oneway\n",
    "\n",
    "period_info = time.drop_duplicates()\n",
    "\n",
    "# Necessary components to perform the ANOVA test\n",
    "period_1 = period_info['period_1'].dropna()\n",
    "period_2 = period_info['period_2'].dropna()\n",
    "period_3 = period_info['period_3'].dropna()\n",
    "period_4 = period_info['period_4'].dropna()\n",
    "period_5 = period_info['period_5'].dropna()\n",
    "\n",
    "# ANOVA test\n",
    "f_statistic, p_value = f_oneway(period_1, period_2, period_3, period_4, period_5)\n",
    "\n",
    "print(f\"F-statistic: {f_statistic}\")\n",
    "print(f\"P-value: {p_value}\")\n",
    "\n",
    "alpha = 0.05  \n",
    "if p_value < alpha:\n",
    "    print(\"There is a significant difference between different periods of the competition.\")\n",
    "else:\n",
    "    print(\"There is no significant difference between different periods of the competition.\")\n",
    "\n",
    "data = pd.DataFrame({\n",
    "    'Period': ['Period 1', 'Period 2', 'Period 3', 'Period 4', 'Period 5'],\n",
    "    'Mean Performance': [\n",
    "        period_info['period_1'].mean(),\n",
    "        period_info['period_2'].mean(),\n",
    "        period_info['period_3'].mean(),\n",
    "        period_info['period_4'].mean(),\n",
    "        period_info['period_5'].mean()\n",
    "    ]\n",
    "})\n",
    "\n",
    "sns.set(style=\"whitegrid\")\n",
    "\n",
    "plt.figure(figsize=(10, 6))\n",
    "sns.barplot(x='Period', y='Mean Performance', data=data, palette='viridis')\n",
    "\n",
    "plt.title('Mean Performance Across Periods')\n",
    "plt.xlabel('Period')\n",
    "plt.ylabel('Mean Performance')\n",
    "plt.show()"
   ],
   "outputs": [],
   "execution_count": null
  },
  {
   "cell_type": "markdown",
   "metadata": {},
   "source": [
    "8.7. Find the highest score achieved by each home team and away team in each period."
   ]
  },
  {
   "cell_type": "code",
   "metadata": {},
   "source": [
    "home_scores = home_team_score.melt(id_vars=['match_id'], value_vars=['period_1', 'period_2', 'period_3', 'period_4', 'period_5'],\n",
    "                                         var_name='period', value_name='home_score')\n",
    "away_scores = away_team_score.melt(id_vars=['match_id'], value_vars=['period_1', 'period_2', 'period_3', 'period_4', 'period_5'],\n",
    "                                         var_name='period', value_name='away_score')\n",
    "\n",
    "scores = home_scores.merge(away_scores, on=['match_id', 'period'], suffixes=('_home', '_away'))\n",
    "\n",
    "scores = scores.drop_duplicates()\n",
    "\n",
    "\n",
    "plt.figure(figsize=(12, 6))\n",
    "plt.plot(scores.groupby('period')['home_score'].sum(), label='Home Team Total Score')\n",
    "plt.plot(scores.groupby('period')['away_score'].sum(), label='Away Team Total Score')\n",
    "plt.xlabel('Period')\n",
    "plt.ylabel('Total Score')\n",
    "plt.title('Total Scoring Trend Across Periods')\n",
    "plt.legend()\n",
    "plt.show()"
   ],
   "outputs": [],
   "execution_count": null
  },
  {
   "cell_type": "markdown",
   "metadata": {},
   "source": [
    "8.8. Which tournament had the highest average attendance?"
   ]
  },
  {
   "cell_type": "code",
   "metadata": {},
   "source": [
    "tour_attend = tournament[['tournament_name', 'user_count']]\n",
    "average_attendance = tour_attend.groupby('tournament_name')['user_count'].mean().idxmax()\n",
    "print(average_attendance)"
   ],
   "outputs": [],
   "execution_count": null
  }
 ],
 "metadata": {
  "kernelspec": {
   "display_name": "Python 3",
   "language": "python",
   "name": "python3"
  },
  "language_info": {
   "codemirror_mode": {
    "name": "ipython",
    "version": 3
   },
   "file_extension": ".py",
   "mimetype": "text/x-python",
   "name": "python",
   "nbconvert_exporter": "python",
   "pygments_lexer": "ipython3",
   "version": "3.12.2"
  }
 },
 "nbformat": 4,
 "nbformat_minor": 2
}
